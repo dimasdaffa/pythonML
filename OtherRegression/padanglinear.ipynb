{
 "cells": [
  {
   "cell_type": "code",
   "execution_count": null,
   "id": "56fbacd9",
   "metadata": {},
   "outputs": [],
   "source": [
    "import pandas as pd\n",
    "import numpy as np\n",
    "import matplotlib.pyplot as plt\n",
    "from sklearn.linear_model import LinearRegression\n",
    "from sklearn.model_selection import train_test_split\n",
    "from sklearn.preprocessing import OneHotEncoder, LabelEncoder"
   ]
  },
  {
   "cell_type": "code",
   "execution_count": null,
   "id": "879a5827",
   "metadata": {},
   "outputs": [],
   "source": [
    "# 1. Membaca data dari file CSV\n",
    "data = pd.read_csv('warung_padang_data.csv')"
   ]
  },
  {
   "cell_type": "code",
   "execution_count": null,
   "id": "f15e45aa",
   "metadata": {},
   "outputs": [],
   "source": [
    "# 2. Menampilkan tabel data penjualan\n",
    "print(\"Tabel Data Penjualan:\")\n",
    "print(data)"
   ]
  },
  {
   "cell_type": "code",
   "execution_count": null,
   "id": "8c89e076",
   "metadata": {},
   "outputs": [],
   "source": [
    "# 3. Memisahkan fitur dan target\n",
    "X = data[['hari']].copy()  # Membuat salinan untuk menghindari view\n",
    "y_cols = ['rendang', 'gulai_ayam', 'sayur_asam', 'sambal_ijo', 'telur_dadar', 'total_penjualan']"
   ]
  },
  {
   "cell_type": "code",
   "execution_count": null,
   "id": "a72d6b1b",
   "metadata": {},
   "outputs": [],
   "source": [
    "# 4. Membuat data baru untuk prediksi bulan depan\n",
    "data_baru = pd.DataFrame({'hari': range(1, 61)})"
   ]
  },
  {
   "cell_type": "code",
   "execution_count": null,
   "id": "a178489f",
   "metadata": {},
   "outputs": [],
   "source": [
    "# 5. Mengonversi tipe data kolom 'hari' menjadi string\n",
    "X['hari'] = X['hari'].astype(str)\n",
    "data_baru['hari'] = data_baru['hari'].astype(str)"
   ]
  },
  {
   "cell_type": "code",
   "execution_count": null,
   "id": "2abc53aa",
   "metadata": {},
   "outputs": [],
   "source": [
    "# 6. Menggabungkan nilai-nilai 'hari' dari data pelatihan dan data baru\n",
    "all_hari_values = pd.concat([X['hari'], data_baru['hari']])"
   ]
  },
  {
   "cell_type": "code",
   "execution_count": null,
   "id": "bb4c6442",
   "metadata": {},
   "outputs": [],
   "source": [
    "# 7. Melakukan label encoding pada semua nilai 'hari'\n",
    "label_encoder = LabelEncoder()\n",
    "all_hari_values = label_encoder.fit_transform(all_hari_values)"
   ]
  },
  {
   "cell_type": "code",
   "execution_count": null,
   "id": "085e3b64",
   "metadata": {},
   "outputs": [],
   "source": [
    "# 8. Memisahkan kembali nilai-nilai 'hari' untuk data pelatihan dan data baru\n",
    "X['hari'] = all_hari_values[:len(X)]\n",
    "data_baru['hari'] = all_hari_values[len(X):]"
   ]
  },
  {
   "cell_type": "code",
   "execution_count": null,
   "id": "9bb42d61",
   "metadata": {},
   "outputs": [],
   "source": [
    "# 9. Melakukan One-hot encoding pada kolom 'hari'\n",
    "encoder = OneHotEncoder(handle_unknown='ignore')\n",
    "X_encoded = encoder.fit_transform(X)"
   ]
  },
  {
   "cell_type": "code",
   "execution_count": null,
   "id": "00357bb5",
   "metadata": {},
   "outputs": [],
   "source": [
    "# 10. Membagi data menjadi data pelatihan dan data pengujian\n",
    "X_train, X_test, y_train, y_test = train_test_split(X_encoded, data[y_cols], test_size=0.2, random_state=42)"
   ]
  },
  {
   "cell_type": "code",
   "execution_count": null,
   "id": "e4623cc2",
   "metadata": {},
   "outputs": [],
   "source": [
    "# 11. Membangun model Linear Regression untuk setiap jenis makanan\n",
    "models = {}\n",
    "for col in y_cols:\n",
    "    model = LinearRegression()\n",
    "    model.fit(X_train, y_train[col])\n",
    "    models[col] = model"
   ]
  },
  {
   "cell_type": "code",
   "execution_count": null,
   "id": "b65f9983",
   "metadata": {},
   "outputs": [],
   "source": [
    "# 12. Melakukan One-hot encoding pada data baru\n",
    "data_baru_encoded = encoder.transform(data_baru[['hari']])"
   ]
  },
  {
   "cell_type": "code",
   "execution_count": null,
   "id": "1ee77eb0",
   "metadata": {},
   "outputs": [],
   "source": [
    "# 13. Melakukan prediksi penjualan untuk bulan depan\n",
    "prediksi_penjualan = {}\n",
    "for col in y_cols:\n",
    "    if col != 'total_penjualan':  # hindari memprediksi total penjualan berdasarkan harga\n",
    "        prediksi_penjualan[col] = models[col].predict(data_baru_encoded)\n",
    "        total_prediksi = sum(prediksi_penjualan[col])\n",
    "        print(f\"Prediksi Total Penjualan {col.capitalize()} untuk Bulan Depan: {int(total_prediksi)} porsi\")\n",
    "\n",
    "        # Menghitung rata-rata penjualan per hari pada bulan sebelumnya\n",
    "        rata_rata_penjualan_sebelumnya = data[col].mean()\n",
    "\n",
    "        # Menghitung persentase peningkatan produksi yang disarankan\n",
    "        peningkatan_produksi = (total_prediksi / 60 - rata_rata_penjualan_sebelumnya) / rata_rata_penjualan_sebelumnya * 100\n",
    "        print(f\"Saran Peningkatan Produksi {col.capitalize()}: {peningkatan_produksi:.2f}%\")\n",
    "\n",
    "        # Simulasi untuk makanan yang tidak terlalu laku (Telur Dadar)\n",
    "        if col == 'telur_dadar' and peningkatan_produksi < 0:\n",
    "            print(f\"Makanan {col.capitalize()} tidak terlalu laku, disarankan untuk mengurangi produksi.\")"
   ]
  },
  {
   "cell_type": "code",
   "execution_count": null,
   "id": "97e18290",
   "metadata": {
    "lines_to_next_cell": 2
   },
   "outputs": [],
   "source": [
    "# 14. Menghitung total prediksi penjualan untuk bulan depan\n",
    "total_penjualan = sum(sum(prediksi_penjualan[col]) for col in y_cols if col != 'total_penjualan')\n",
    "print(f\"\\nPrediksi Total Penjualan untuk Bulan Depan: {int(total_penjualan)}\")"
   ]
  },
  {
   "cell_type": "code",
   "execution_count": null,
   "id": "b980603e",
   "metadata": {},
   "outputs": [],
   "source": [
    "# 15. Menampilkan tabel data penjualan per menu dan plot regresi\n",
    "for col in y_cols:\n",
    "    # Menampilkan tabel data penjualan per menu\n",
    "    print(f\"\\nTabel Data Penjualan {col.capitalize()}:\")\n",
    "    print(data[['hari', col]])\n",
    "\n",
    "    # Plot regresi untuk setiap jenis makanan\n",
    "    plt.figure(figsize=(10, 6))\n",
    "    hari_asli = np.arange(1, len(data) + 1)\n",
    "    hari_prediksi = np.arange(1, 61)\n",
    "    \n",
    "    # Plot data asli\n",
    "    plt.scatter(hari_asli, data[col], color='blue', label='Data Asli')\n",
    "    \n",
    "    # Plot prediksi penjualan\n",
    "    if col != 'total_penjualan':\n",
    "        plt.plot(hari_prediksi, prediksi_penjualan[col], color='red', label='Prediksi')\n",
    "    \n",
    "    plt.xlabel('Hari')\n",
    "    plt.ylabel('Penjualan')\n",
    "    plt.title(f'Regresi Linear Penjualan {col.capitalize()}')\n",
    "    plt.legend()\n",
    "    plt.grid(True)\n",
    "    plt.show()"
   ]
  }
 ],
 "metadata": {
  "jupytext": {
   "cell_metadata_filter": "-all",
   "main_language": "python",
   "notebook_metadata_filter": "-all"
  }
 },
 "nbformat": 4,
 "nbformat_minor": 5
}
