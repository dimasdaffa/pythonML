{
 "cells": [
  {
   "cell_type": "code",
   "execution_count": 5,
   "id": "3ffb2add-81ad-4672-bf4e-072a29f0675b",
   "metadata": {},
   "outputs": [
    {
     "ename": "TypeError",
     "evalue": "Encoders require their input argument must be uniformly strings or numbers. Got ['int', 'str']",
     "output_type": "error",
     "traceback": [
      "\u001b[0;31m---------------------------------------------------------------------------\u001b[0m",
      "\u001b[0;31mTypeError\u001b[0m                                 Traceback (most recent call last)",
      "File \u001b[0;32m/opt/anaconda3/lib/python3.11/site-packages/sklearn/utils/_encode.py:174\u001b[0m, in \u001b[0;36m_unique_python\u001b[0;34m(values, return_inverse, return_counts)\u001b[0m\n\u001b[1;32m    172\u001b[0m uniques_set, missing_values \u001b[38;5;241m=\u001b[39m _extract_missing(uniques_set)\n\u001b[0;32m--> 174\u001b[0m uniques \u001b[38;5;241m=\u001b[39m \u001b[38;5;28msorted\u001b[39m(uniques_set)\n\u001b[1;32m    175\u001b[0m uniques\u001b[38;5;241m.\u001b[39mextend(missing_values\u001b[38;5;241m.\u001b[39mto_list())\n",
      "\u001b[0;31mTypeError\u001b[0m: '<' not supported between instances of 'str' and 'int'",
      "\nDuring handling of the above exception, another exception occurred:\n",
      "\u001b[0;31mTypeError\u001b[0m                                 Traceback (most recent call last)",
      "Cell \u001b[0;32mIn[5], line 27\u001b[0m\n\u001b[1;32m     24\u001b[0m hari_gabungan \u001b[38;5;241m=\u001b[39m np\u001b[38;5;241m.\u001b[39mconcatenate([data[\u001b[38;5;124m'\u001b[39m\u001b[38;5;124mhari\u001b[39m\u001b[38;5;124m'\u001b[39m], data_baru[\u001b[38;5;124m'\u001b[39m\u001b[38;5;124mhari\u001b[39m\u001b[38;5;124m'\u001b[39m]])\n\u001b[1;32m     26\u001b[0m \u001b[38;5;66;03m# Melakukan fitting LabelEncoder pada semua nilai unik\u001b[39;00m\n\u001b[0;32m---> 27\u001b[0m label_encoder \u001b[38;5;241m=\u001b[39m LabelEncoder()\u001b[38;5;241m.\u001b[39mfit(hari_gabungan)\n\u001b[1;32m     29\u001b[0m \u001b[38;5;66;03m# Mentransformasi kolom 'hari' pada data training\u001b[39;00m\n\u001b[1;32m     30\u001b[0m data[\u001b[38;5;124m'\u001b[39m\u001b[38;5;124mhari\u001b[39m\u001b[38;5;124m'\u001b[39m] \u001b[38;5;241m=\u001b[39m label_encoder\u001b[38;5;241m.\u001b[39mtransform(data[\u001b[38;5;124m'\u001b[39m\u001b[38;5;124mhari\u001b[39m\u001b[38;5;124m'\u001b[39m])\n",
      "File \u001b[0;32m/opt/anaconda3/lib/python3.11/site-packages/sklearn/preprocessing/_label.py:98\u001b[0m, in \u001b[0;36mLabelEncoder.fit\u001b[0;34m(self, y)\u001b[0m\n\u001b[1;32m     85\u001b[0m \u001b[38;5;250m\u001b[39m\u001b[38;5;124;03m\"\"\"Fit label encoder.\u001b[39;00m\n\u001b[1;32m     86\u001b[0m \n\u001b[1;32m     87\u001b[0m \u001b[38;5;124;03mParameters\u001b[39;00m\n\u001b[0;32m   (...)\u001b[0m\n\u001b[1;32m     95\u001b[0m \u001b[38;5;124;03m    Fitted label encoder.\u001b[39;00m\n\u001b[1;32m     96\u001b[0m \u001b[38;5;124;03m\"\"\"\u001b[39;00m\n\u001b[1;32m     97\u001b[0m y \u001b[38;5;241m=\u001b[39m column_or_1d(y, warn\u001b[38;5;241m=\u001b[39m\u001b[38;5;28;01mTrue\u001b[39;00m)\n\u001b[0;32m---> 98\u001b[0m \u001b[38;5;28mself\u001b[39m\u001b[38;5;241m.\u001b[39mclasses_ \u001b[38;5;241m=\u001b[39m _unique(y)\n\u001b[1;32m     99\u001b[0m \u001b[38;5;28;01mreturn\u001b[39;00m \u001b[38;5;28mself\u001b[39m\n",
      "File \u001b[0;32m/opt/anaconda3/lib/python3.11/site-packages/sklearn/utils/_encode.py:42\u001b[0m, in \u001b[0;36m_unique\u001b[0;34m(values, return_inverse, return_counts)\u001b[0m\n\u001b[1;32m     11\u001b[0m \u001b[38;5;250m\u001b[39m\u001b[38;5;124;03m\"\"\"Helper function to find unique values with support for python objects.\u001b[39;00m\n\u001b[1;32m     12\u001b[0m \n\u001b[1;32m     13\u001b[0m \u001b[38;5;124;03mUses pure python method for object dtype, and numpy method for\u001b[39;00m\n\u001b[0;32m   (...)\u001b[0m\n\u001b[1;32m     39\u001b[0m \u001b[38;5;124;03m    array. Only provided if `return_counts` is True.\u001b[39;00m\n\u001b[1;32m     40\u001b[0m \u001b[38;5;124;03m\"\"\"\u001b[39;00m\n\u001b[1;32m     41\u001b[0m \u001b[38;5;28;01mif\u001b[39;00m values\u001b[38;5;241m.\u001b[39mdtype \u001b[38;5;241m==\u001b[39m \u001b[38;5;28mobject\u001b[39m:\n\u001b[0;32m---> 42\u001b[0m     \u001b[38;5;28;01mreturn\u001b[39;00m _unique_python(\n\u001b[1;32m     43\u001b[0m         values, return_inverse\u001b[38;5;241m=\u001b[39mreturn_inverse, return_counts\u001b[38;5;241m=\u001b[39mreturn_counts\n\u001b[1;32m     44\u001b[0m     )\n\u001b[1;32m     45\u001b[0m \u001b[38;5;66;03m# numerical\u001b[39;00m\n\u001b[1;32m     46\u001b[0m \u001b[38;5;28;01mreturn\u001b[39;00m _unique_np(\n\u001b[1;32m     47\u001b[0m     values, return_inverse\u001b[38;5;241m=\u001b[39mreturn_inverse, return_counts\u001b[38;5;241m=\u001b[39mreturn_counts\n\u001b[1;32m     48\u001b[0m )\n",
      "File \u001b[0;32m/opt/anaconda3/lib/python3.11/site-packages/sklearn/utils/_encode.py:179\u001b[0m, in \u001b[0;36m_unique_python\u001b[0;34m(values, return_inverse, return_counts)\u001b[0m\n\u001b[1;32m    177\u001b[0m \u001b[38;5;28;01mexcept\u001b[39;00m \u001b[38;5;167;01mTypeError\u001b[39;00m:\n\u001b[1;32m    178\u001b[0m     types \u001b[38;5;241m=\u001b[39m \u001b[38;5;28msorted\u001b[39m(t\u001b[38;5;241m.\u001b[39m\u001b[38;5;18m__qualname__\u001b[39m \u001b[38;5;28;01mfor\u001b[39;00m t \u001b[38;5;129;01min\u001b[39;00m \u001b[38;5;28mset\u001b[39m(\u001b[38;5;28mtype\u001b[39m(v) \u001b[38;5;28;01mfor\u001b[39;00m v \u001b[38;5;129;01min\u001b[39;00m values))\n\u001b[0;32m--> 179\u001b[0m     \u001b[38;5;28;01mraise\u001b[39;00m \u001b[38;5;167;01mTypeError\u001b[39;00m(\n\u001b[1;32m    180\u001b[0m         \u001b[38;5;124m\"\u001b[39m\u001b[38;5;124mEncoders require their input argument must be uniformly \u001b[39m\u001b[38;5;124m\"\u001b[39m\n\u001b[1;32m    181\u001b[0m         \u001b[38;5;124mf\u001b[39m\u001b[38;5;124m\"\u001b[39m\u001b[38;5;124mstrings or numbers. Got \u001b[39m\u001b[38;5;132;01m{\u001b[39;00mtypes\u001b[38;5;132;01m}\u001b[39;00m\u001b[38;5;124m\"\u001b[39m\n\u001b[1;32m    182\u001b[0m     )\n\u001b[1;32m    183\u001b[0m ret \u001b[38;5;241m=\u001b[39m (uniques,)\n\u001b[1;32m    185\u001b[0m \u001b[38;5;28;01mif\u001b[39;00m return_inverse:\n",
      "\u001b[0;31mTypeError\u001b[0m: Encoders require their input argument must be uniformly strings or numbers. Got ['int', 'str']"
     ]
    }
   ],
   "source": [
    "import pandas as pd\n",
    "import numpy as np\n",
    "from sklearn.linear_model import LinearRegression\n",
    "from sklearn.model_selection import train_test_split\n",
    "from sklearn.preprocessing import LabelEncoder\n",
    "\n",
    "# Membaca data dari file CSV\n",
    "data = pd.read_csv('warung_padang_data.csv')\n",
    "\n",
    "# Melakukan encoding pada kolom target\n",
    "label_encoder_target = LabelEncoder()\n",
    "y_cols = ['rendang', 'gulai_ayam', 'sayur_asam', 'sambal_ijo', 'telur_dadar']\n",
    "for col in y_cols:\n",
    "    data[col] = label_encoder_target.fit_transform(data[col])\n",
    "\n",
    "# Memisahkan fitur dan target\n",
    "X = data[['hari']]  # Menggunakan 'hari' sebagai fitur\n",
    "y = data[y_cols]\n",
    "\n",
    "# Membuat data baru untuk prediksi bulan depan\n",
    "data_baru = pd.DataFrame({'hari': range(1, 31)})\n",
    "\n",
    "# Menggabungkan kolom 'hari' dari data training dan data baru\n",
    "hari_gabungan = np.concatenate([data['hari'], data_baru['hari']])\n",
    "\n",
    "# Melakukan fitting LabelEncoder pada semua nilai unik\n",
    "label_encoder = LabelEncoder().fit(hari_gabungan)\n",
    "\n",
    "# Mentransformasi kolom 'hari' pada data training\n",
    "data['hari'] = label_encoder.transform(data['hari'])\n",
    "\n",
    "# Mentransformasi kolom 'hari' pada data baru\n",
    "data_baru['hari'] = label_encoder.transform(data_baru['hari'])\n",
    "\n",
    "# Membagi data menjadi data pelatihan dan data pengujian\n",
    "X_train, X_test, y_train, y_test = train_test_split(X, y, test_size=0.2, random_state=42)\n",
    "\n",
    "# Membangun model Linear Regression untuk setiap jenis makanan\n",
    "models = {}\n",
    "for col in y_cols:\n",
    "    model = LinearRegression()\n",
    "    model.fit(X_train, y_train[col])\n",
    "    models[col] = model\n",
    "\n",
    "# Melakukan prediksi penjualan untuk bulan depan\n",
    "prediksi_penjualan = {}\n",
    "for col in y_cols:\n",
    "    prediksi_penjualan[col] = models[col].predict(data_baru)\n",
    "    total_prediksi = sum(prediksi_penjualan[col])\n",
    "    print(f\"Prediksi Total Penjualan {col.capitalize()} untuk Bulan Depan: {int(total_prediksi)} porsi\")\n",
    "\n",
    "    # Menghitung rata-rata penjualan per hari pada bulan sebelumnya\n",
    "    rata_rata_penjualan_sebelumnya = data[col].mean()\n",
    "\n",
    "    # Menghitung persentase peningkatan produksi yang disarankan\n",
    "    peningkatan_produksi = (total_prediksi / 30 - rata_rata_penjualan_sebelumnya) / rata_rata_penjualan_sebelumnya * 100\n",
    "    print(f\"Saran Peningkatan Produksi {col.capitalize()}: {peningkatan_produksi:.2f}%\")\n",
    "\n",
    "    # Simulasi untuk makanan yang tidak terlalu laku (Telur Dadar)\n",
    "    if col == 'telur_dadar' and peningkatan_produksi < 0:\n",
    "        print(f\"Makanan {col.capitalize()} tidak terlalu laku, disarankan untuk mengurangi produksi.\")\n",
    "\n",
    "# Menghitung total prediksi penjualan untuk bulan depan\n",
    "total_penjualan = sum(data['total_penjualan'])\n",
    "print(f\"\\nPrediksi Total Penjualan untuk Bulan Depan: Rp {int(total_penjualan)}\")"
   ]
  },
  {
   "cell_type": "code",
   "execution_count": null,
   "id": "aadace61-1987-4cf8-b0af-5d455eed3842",
   "metadata": {},
   "outputs": [],
   "source": []
  }
 ],
 "metadata": {
  "kernelspec": {
   "display_name": "Python 3 (ipykernel)",
   "language": "python",
   "name": "python3"
  },
  "language_info": {
   "codemirror_mode": {
    "name": "ipython",
    "version": 3
   },
   "file_extension": ".py",
   "mimetype": "text/x-python",
   "name": "python",
   "nbconvert_exporter": "python",
   "pygments_lexer": "ipython3",
   "version": "3.11.7"
  }
 },
 "nbformat": 4,
 "nbformat_minor": 5
}
