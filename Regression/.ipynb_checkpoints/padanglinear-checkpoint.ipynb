{
 "cells": [
  {
   "cell_type": "code",
   "execution_count": null,
   "id": "53bfb2c4",
   "metadata": {},
   "outputs": [],
   "source": [
    "import pandas as pd\n",
    "from sklearn.linear_model import LinearRegression\n",
    "from sklearn.model_selection import train_test_split"
   ]
  },
  {
   "cell_type": "code",
   "execution_count": null,
   "id": "162b3ff6",
   "metadata": {},
   "outputs": [],
   "source": [
    "# Membaca data dari file CSV\n",
    "data = pd.read_csv('warung_padang_data.csv')"
   ]
  },
  {
   "cell_type": "code",
   "execution_count": null,
   "id": "821975dc",
   "metadata": {},
   "outputs": [],
   "source": [
    "# Memisahkan fitur dan target\n",
    "X = data[['hari']]  # Menggunakan 'hari' sebagai fitur\n",
    "y_cols = ['rendang', 'gulai_ayam', 'sayur_asam', 'sambal_ijo', 'telur_dadar']"
   ]
  },
  {
   "cell_type": "code",
   "execution_count": null,
   "id": "13af52b9",
   "metadata": {},
   "outputs": [],
   "source": [
    "# Membagi data menjadi data pelatihan dan data pengujian\n",
    "X_train, X_test, y_train, y_test = train_test_split(X, data[y_cols], test_size=0.2, random_state=42)"
   ]
  },
  {
   "cell_type": "code",
   "execution_count": null,
   "id": "78cc0f68",
   "metadata": {},
   "outputs": [],
   "source": [
    "# Membangun model Linear Regression untuk setiap jenis makanan\n",
    "models = {}\n",
    "for col in y_cols:\n",
    "    model = LinearRegression()\n",
    "    model.fit(X_train, y_train[col])\n",
    "    models[col] = model"
   ]
  },
  {
   "cell_type": "code",
   "execution_count": null,
   "id": "7ff9deea",
   "metadata": {},
   "outputs": [],
   "source": [
    "# Membuat data baru untuk prediksi bulan depan\n",
    "data_baru = pd.DataFrame({'hari': range(1, 31)})"
   ]
  },
  {
   "cell_type": "code",
   "execution_count": null,
   "id": "2d11f324",
   "metadata": {},
   "outputs": [],
   "source": [
    "# Melakukan prediksi penjualan untuk bulan depan\n",
    "prediksi_penjualan = {}\n",
    "for col in y_cols:\n",
    "    prediksi_penjualan[col] = models[col].predict(data_baru)\n",
    "    total_prediksi = sum(prediksi_penjualan[col])\n",
    "    print(f\"Prediksi Total Penjualan {col.capitalize()} untuk Bulan Depan: {int(total_prediksi)} porsi\")\n",
    "\n",
    "    # Menghitung rata-rata penjualan per hari pada bulan sebelumnya\n",
    "    rata_rata_penjualan_sebelumnya = data[col].mean()\n",
    "\n",
    "    # Menghitung persentase peningkatan produksi yang disarankan\n",
    "    peningkatan_produksi = (total_prediksi / 30 - rata_rata_penjualan_sebelumnya) / rata_rata_penjualan_sebelumnya * 100\n",
    "    print(f\"Saran Peningkatan Produksi {col.capitalize()}: {peningkatan_produksi:.2f}%\")\n",
    "\n",
    "    # Simulasi untuk makanan yang tidak terlalu laku (Telur Dadar)\n",
    "    if col == 'telur_dadar' and peningkatan_produksi < 0:\n",
    "        print(f\"Makanan {col.capitalize()} tidak terlalu laku, disarankan untuk mengurangi produksi.\")"
   ]
  },
  {
   "cell_type": "code",
   "execution_count": null,
   "id": "1f9a3ab2",
   "metadata": {},
   "outputs": [],
   "source": [
    "# Menghitung total prediksi penjualan untuk bulan depan\n",
    "total_penjualan = sum(data['total_penjualan'])\n",
    "print(f\"\\nPrediksi Total Penjualan untuk Bulan Depan: Rp {int(total_penjualan)}\")"
   ]
  }
 ],
 "metadata": {
  "jupytext": {
   "cell_metadata_filter": "-all",
   "main_language": "python",
   "notebook_metadata_filter": "-all"
  }
 },
 "nbformat": 4,
 "nbformat_minor": 5
}
